{
 "cells": [
  {
   "cell_type": "markdown",
   "metadata": {},
   "source": [
    "# Q2 - Assignment 1"
   ]
  },
  {
   "cell_type": "code",
   "execution_count": null,
   "metadata": {
    "scrolled": true
   },
   "outputs": [
    {
     "name": "stdout",
     "output_type": "stream",
     "text": [
      "=== Welcome to LU Chat ===\n",
      "\n"
     ]
    }
   ],
   "source": [
    "print(\"=== Welcome to LU Chat ===\\n\")\n",
    "user = input(\"Enter your Username: \") \n",
    "pasw = input(\"Enter Your Password: \") \n",
    "\n",
    "\n",
    "count = 0 \n",
    "count += 1 \n",
    "\n",
    "\n",
    "while user == user and pasw == pasw: \n",
    "\n",
    "    if count == 5: \n",
    "        print(\"\\n Your Account has been blocked for 48 hours...\")\n",
    "        break \n",
    "\n",
    "    elif user == 'austi' and pasw == 'austi123':\n",
    "        \n",
    "        \n",
    "        print(\"\\nLogin Successful...Welcome to LU Chat! \") \n",
    "        break \n",
    "\n",
    "    elif user != 'austi' and pasw != 'austi123':\n",
    "        print(\"\\n Wrong Password & username...please try again!\") \n",
    "        user = input(\"\\n Username: \") \n",
    "        pasw = input(\"\\n Password: \") \n",
    "        count += 1 \n",
    "         \n",
    "\n",
    "\n",
    "    elif user == 'austi' and pasw != 'austi123': \n",
    "        print(\"Wrong password...Please try again!\") \n",
    "        user = input(\"\\n Username: \") \n",
    "        pasw = input(\"\\n Password: \") \n",
    "        count += 1 \n",
    "         \n",
    "\n",
    "\n",
    "    elif user != 'austi' and pasw == 'austi123': \n",
    "        print(\"Wrong Username...please try again!\") \n",
    "        user = input(\"\\n Username: \") \n",
    "        pasw = input(\"\\n Password: \") \n",
    "        count += 1 \n",
    "         "
   ]
  },
  {
   "cell_type": "markdown",
   "metadata": {},
   "source": [
    "# Q1"
   ]
  },
  {
   "cell_type": "code",
   "execution_count": 6,
   "metadata": {},
   "outputs": [
    {
     "name": "stdout",
     "output_type": "stream",
     "text": [
      "0.26785714285714285\n"
     ]
    }
   ],
   "source": [
    "x = 5\n",
    "y = (2*x+5) / (x**2+5*x+6)\n",
    "print(y)"
   ]
  },
  {
   "cell_type": "code",
   "execution_count": 7,
   "metadata": {},
   "outputs": [
    {
     "name": "stdout",
     "output_type": "stream",
     "text": [
      "3.7333333333333334\n"
     ]
    }
   ],
   "source": [
    "x = 5\n",
    "y = (x**2+5*x+6) / (2*x+5)\n",
    "print(y)"
   ]
  },
  {
   "cell_type": "code",
   "execution_count": 10,
   "metadata": {},
   "outputs": [
    {
     "name": "stdout",
     "output_type": "stream",
     "text": [
      "98\n"
     ]
    }
   ],
   "source": [
    "x = 5\n",
    "y = (2*x-3)*(x+9)\n",
    "print(y)"
   ]
  }
 ],
 "metadata": {
  "kernelspec": {
   "display_name": "Python 3",
   "language": "python",
   "name": "python3"
  },
  "language_info": {
   "codemirror_mode": {
    "name": "ipython",
    "version": 3
   },
   "file_extension": ".py",
   "mimetype": "text/x-python",
   "name": "python",
   "nbconvert_exporter": "python",
   "pygments_lexer": "ipython3",
   "version": "3.8.5"
  }
 },
 "nbformat": 4,
 "nbformat_minor": 4
}
